{
 "cells": [
  {
   "cell_type": "markdown",
   "metadata": {},
   "source": [
    "# Variational Autoencoder"
   ]
  },
  {
   "cell_type": "markdown",
   "metadata": {},
   "source": [
    "In this assignment, you will build Variational Autoencoder, train it on the MNIST dataset, and play with its architecture and hyperparameters."
   ]
  },
  {
   "cell_type": "markdown",
   "metadata": {},
   "source": [
    "### Installation\n",
    "\n",
    "You will need ```numpy```, ```tensorflow```, ```keras```, ```matplotlib``` libraries for this assignment"
   ]
  },
  {
   "cell_type": "code",
   "execution_count": 1,
   "metadata": {},
   "outputs": [
    {
     "name": "stderr",
     "output_type": "stream",
     "text": [
      "/home/sid/anaconda3/lib/python3.6/site-packages/h5py/__init__.py:36: FutureWarning: Conversion of the second argument of issubdtype from `float` to `np.floating` is deprecated. In future, it will be treated as `np.float64 == np.dtype(float).type`.\n",
      "  from ._conv import register_converters as _register_converters\n",
      "Using TensorFlow backend.\n"
     ]
    }
   ],
   "source": [
    "import tensorflow as tf\n",
    "import keras\n",
    "import numpy as np\n",
    "import matplotlib.pyplot as plt\n",
    "\n",
    "from keras.layers import Input, Dense, Lambda, InputLayer, concatenate\n",
    "from keras.models import Model, Sequential\n",
    "from keras import backend as K\n",
    "from keras import metrics\n",
    "from keras.datasets import mnist\n",
    "from keras.utils import np_utils\n",
    "from grader import Grader"
   ]
  },
  {
   "cell_type": "markdown",
   "metadata": {},
   "source": [
    "### Grading\n",
    "We will create a grader instance below and use it to collect your answers. Note that these outputs will be stored locally inside grader and will be uploaded to the platform only after running submit function in the last part of this assignment. If you want to make a partial submission, you can run that cell anytime you want."
   ]
  },
  {
   "cell_type": "code",
   "execution_count": 2,
   "metadata": {},
   "outputs": [],
   "source": [
    "grader = Grader()"
   ]
  },
  {
   "cell_type": "markdown",
   "metadata": {},
   "source": [
    "### Variational Autoencoder"
   ]
  },
  {
   "cell_type": "markdown",
   "metadata": {},
   "source": [
    "Recall that Variational Autoencoder is a probabilistic model of data based on a continious mixture of distributions. In the lecture we covered the mixture of gaussians case, but here we will apply VAE to binary MNIST images (each pixel is either black or white). To better model binary data we will use a continuous mixture of binomial distributions: $p(x \\mid w) = \\int p(x \\mid t, w) p(t) dt$, where the prior distribution on the latent code $t$ is standard normal $p(t) = \\mathcal{N}(0, I)$, but probability that $(i, j)$-th pixel is black equals to $(i, j)$-th output of the decoder neural detwork: $p(x_{i, j} \\mid t, w) = \\text{decoder}(t, w)_{i, j}$.\n",
    "\n",
    "To train this model we would like to maximize marginal log-likelihood of our dataset $\\max_w \\log p(X \\mid w)$, but it's very hard to do computationally, so instead we maximize the Variational Lower Bound w.r.t. both the original parameters $w$ and variational distribution $q$ which we define as encoder neural network with parameters $\\phi$ which takes input image $x$ and outputs parameters of the gaussian distribution $q(t \\mid x, \\phi)$: $\\log p(X \\mid w) \\geq \\mathcal{L}(w, \\phi) \\rightarrow \\max_{w, \\phi}$.\n",
    "\n",
    "So overall our model looks as follows: encoder takes an image $x$, produces a distribution over latent codes $q(t \\mid x)$ which should approximate the posterior distribution $p(t \\mid x)$ (at least after training), samples a point from this distribution $\\widehat{t} \\sim q(t \\mid x, \\phi)$, and finally feeds it into a decoder that outputs a distribution over images.\n",
    "\n",
    "![](VAE.png)\n",
    "\n",
    "In the lecture, we also discussed that variational lower bound has an expected value inside which we are going to approximate with sampling. But it is not trivial since we need to differentiate through this approximation. However, we learned about _reparametrization trick_ which suggests instead of sampling from distribution $\\widehat{t} \\sim q(t \\mid x, \\phi)$ sample from a distribution which doesn't depend on any parameters, e.g. standard normal, and then deterministically transform this sample to the desired one: $\\varepsilon \\sim \\mathcal{N}(0, I); ~~\\widehat{t} = m(x, \\phi) + \\varepsilon \\sigma(x, \\phi)$. This way we don't have to worry about our stochastic gradient being biased and can straightforwardly differentiate our loss w.r.t. all the parameters while treating the current sample $\\varepsilon$ as constant.\n",
    "\n",
    "\n"
   ]
  },
  {
   "cell_type": "markdown",
   "metadata": {},
   "source": [
    "### Variational Lower Bound"
   ]
  },
  {
   "cell_type": "markdown",
   "metadata": {},
   "source": [
    "**Task 1** Derive and implement Variational Lower Bound for the continuous mixture of Binomial distributions.\n",
    "\n",
    "**Note** that to pass the test, your code should work with any mini-batch size.\n",
    "\n",
    "**Also note** that although we need a stochastic estimate of VLB: \n",
    "$$\\text{VLB} = \\sum_{i=1}^N \\text{VLB}_i \\approx \\frac{N}{M}\\sum_{i_s}^M \\text{VLB}_{i_s}$$\n",
    "where $N$ is the dataset size, $\\text{VLB}_i$ is the term of VLB corresponding to the $i$-th object, and $M$ is the mini-batch size; in the function below you need to return just average across the mini-batch $\\frac{1}{M}\\sum_{i_s}^M \\text{VLB}_{i_s}$. People usually optimize this unscaled version of VLB since it doesn't depend on the dataset set size - you can write VLB function once and use it for different datasets - and it doesn't affect optimization (it does affect the learning rate though). The correct value for this unscaled VLB should be around $100 - 170$."
   ]
  },
  {
   "cell_type": "code",
   "execution_count": 3,
   "metadata": {},
   "outputs": [],
   "source": [
    "def vlb_binomial(x, x_decoded_mean, t_mean, t_log_var):\n",
    "    \"\"\"Returns the value of Variational Lower Bound\n",
    "    \n",
    "    The inputs are tf.Tensor\n",
    "        x: (batch_size x number_of_pixels) matrix with one image per row with zeros and ones\n",
    "        x_decoded_mean: (batch_size x number_of_pixels) mean of the distribution p(x | t), real numbers from 0 to 1\n",
    "        t_mean: (batch_size x latent_dim) mean vector of the (normal) distribution q(t | x)\n",
    "        t_log_var: (batch_size x latent_dim) logarithm of the variance vector of the (normal) distribution q(t | x)\n",
    "    \n",
    "    Returns:\n",
    "        A tf.Tensor with one element (averaged across the batch), VLB\n",
    "    \"\"\"\n",
    "    ### YOUR CODE HERE\n",
    "    kl = tf.reduce_sum((tf.exp(t_log_var) + t_mean**2 - t_log_var - 1)/2.0, 1)\n",
    "    reconstruction_loss = -tf.reduce_sum(x*tf.log(x_decoded_mean+1e-8)+(1-x)*tf.log(1-x_decoded_mean+1e-8), 1)\n",
    "    kl = tf.reduce_mean(kl)\n",
    "    reconstruction_loss = tf.reduce_mean(reconstruction_loss)\n",
    "    return reconstruction_loss+kl\n",
    "    "
   ]
  },
  {
   "cell_type": "code",
   "execution_count": 4,
   "metadata": {},
   "outputs": [],
   "source": [
    "# Start tf session so we can run code.\n",
    "sess = tf.InteractiveSession()\n",
    "# Connect keras to the created session.\n",
    "K.set_session(sess)"
   ]
  },
  {
   "cell_type": "code",
   "execution_count": 5,
   "metadata": {},
   "outputs": [
    {
     "name": "stdout",
     "output_type": "stream",
     "text": [
      "Current answer for task 1 (vlb) is: 157.59695\n"
     ]
    }
   ],
   "source": [
    "grader.submit_vlb(sess, vlb_binomial)"
   ]
  },
  {
   "cell_type": "markdown",
   "metadata": {},
   "source": [
    "## Encoder / decoder definition"
   ]
  },
  {
   "cell_type": "markdown",
   "metadata": {},
   "source": [
    "**Task 2** Read the code below that defines encoder and decoder networks and implement sampling with reparametrization trick in the provided space."
   ]
  },
  {
   "cell_type": "code",
   "execution_count": 6,
   "metadata": {},
   "outputs": [],
   "source": [
    "batch_size = 100\n",
    "original_dim = 784 # Number of pixels in MNIST images.\n",
    "latent_dim = 16 # d, dimensionality of the latent code t.\n",
    "intermediate_dim = 512 # Size of the hidden layer.\n",
    "epochs = 20\n",
    "\n",
    "x = Input(batch_shape=(None, original_dim))\n",
    "def create_encoder(input_dim):\n",
    "    # Encoder network.\n",
    "    # We instantiate these layers separately so as to reuse them later\n",
    "    encoder = Sequential(name='encoder')\n",
    "    encoder.add(InputLayer([input_dim]))\n",
    "    encoder.add(Dense(intermediate_dim, activation='relu'))\n",
    "    encoder.add(Dense(intermediate_dim//2, activation='relu'))\n",
    "    encoder.add(Dense(2 * latent_dim))\n",
    "    return encoder\n",
    "encoder = create_encoder(original_dim)\n",
    "\n",
    "get_t_mean = Lambda(lambda h: h[:, :latent_dim])\n",
    "get_t_log_var = Lambda(lambda h: h[:, latent_dim:])\n",
    "h = encoder(x)\n",
    "t_mean = get_t_mean(h)\n",
    "t_log_var = get_t_log_var(h)\n",
    "\n",
    "# Sampling from the distribution \n",
    "#     q(t | x) = N(t_mean, exp(t_log_var))\n",
    "# with reparametrization trick.\n",
    "def sampling(args):\n",
    "    \"\"\"Returns sample from a distribution N(args[0], diag(args[1]))\n",
    "    \n",
    "    The sample should be computed with reparametrization trick.\n",
    "    \n",
    "    The inputs are tf.Tensor\n",
    "        args[0]: (batch_size x latent_dim) mean of the desired distribution\n",
    "        args[1]: (batch_size x latent_dim) logarithm of the variance vector of the desired distribution\n",
    "    \n",
    "    Returns:\n",
    "        A tf.Tensor of size (batch_size x latent_dim), the samples.\n",
    "    \"\"\"\n",
    "    t_mean, t_log_var = args\n",
    "    # YOUR CODE HERE\n",
    "    return t_mean + tf.exp(0.5*t_log_var) * tf.random_normal(tf.shape(t_mean), 0, 1, dtype=tf.float32)\n",
    "\n",
    "t = Lambda(sampling)([t_mean, t_log_var])\n",
    "\n",
    "def create_decoder(input_dim):\n",
    "    # Decoder network\n",
    "    # We instantiate these layers separately so as to reuse them later\n",
    "    decoder = Sequential(name='decoder')\n",
    "    decoder.add(InputLayer([input_dim]))\n",
    "    decoder.add(Dense(intermediate_dim//2, activation='relu'))\n",
    "    decoder.add(Dense(intermediate_dim, activation='relu'))\n",
    "    decoder.add(Dense(original_dim, activation='sigmoid'))\n",
    "    return decoder\n",
    "decoder = create_decoder(latent_dim)\n",
    "x_decoded_mean = decoder(t)"
   ]
  },
  {
   "cell_type": "code",
   "execution_count": 7,
   "metadata": {},
   "outputs": [
    {
     "name": "stdout",
     "output_type": "stream",
     "text": [
      "Current answer for task 2.1 (samples mean) is: -0.12195136\n",
      "Current answer for task 2.2 (samples var) is: 0.037195943\n"
     ]
    }
   ],
   "source": [
    "grader.submit_samples(sess, sampling)"
   ]
  },
  {
   "cell_type": "markdown",
   "metadata": {},
   "source": [
    "## Training the model"
   ]
  },
  {
   "cell_type": "markdown",
   "metadata": {},
   "source": [
    "**Task 3** Run the cells below to train the model with the default settings. Modify the parameters to get better results. Especially pay attention the encoder / encoder architectures (e.g. using more layers, maybe making them convolutional), learning rate, and the number of epochs."
   ]
  },
  {
   "cell_type": "code",
   "execution_count": 8,
   "metadata": {},
   "outputs": [],
   "source": [
    "loss = vlb_binomial(x, x_decoded_mean, t_mean, t_log_var)\n",
    "vae = Model(x, x_decoded_mean)\n",
    "# Keras will provide input (x) and output (x_decoded_mean) to the function that\n",
    "# should construct loss, but since our function also depends on other\n",
    "# things (e.g. t_means), it is easier to build the loss in advance and pass\n",
    "# a function that always returns it.\n",
    "vae.compile(optimizer=keras.optimizers.RMSprop(lr=0.001), loss=lambda x, y: loss)"
   ]
  },
  {
   "cell_type": "markdown",
   "metadata": {},
   "source": [
    "#### Load and prepare the data"
   ]
  },
  {
   "cell_type": "code",
   "execution_count": 9,
   "metadata": {},
   "outputs": [],
   "source": [
    "# train the VAE on MNIST digits\n",
    "(x_train, y_train), (x_test, y_test) = mnist.load_data()\n",
    "# One hot encoding.\n",
    "y_train = np_utils.to_categorical(y_train)\n",
    "y_test = np_utils.to_categorical(y_test)\n",
    "\n",
    "x_train = x_train.astype('float32') / 255.\n",
    "x_test = x_test.astype('float32') / 255.\n",
    "x_train = x_train.reshape((len(x_train), np.prod(x_train.shape[1:])))\n",
    "x_test = x_test.reshape((len(x_test), np.prod(x_test.shape[1:])))"
   ]
  },
  {
   "cell_type": "markdown",
   "metadata": {},
   "source": [
    "#### Train the model"
   ]
  },
  {
   "cell_type": "code",
   "execution_count": 10,
   "metadata": {},
   "outputs": [
    {
     "name": "stdout",
     "output_type": "stream",
     "text": [
      "Train on 60000 samples, validate on 10000 samples\n",
      "Epoch 1/20\n",
      " - 25s - loss: 155.5584 - val_loss: 128.1400\n",
      "Epoch 2/20\n",
      " - 26s - loss: 124.0271 - val_loss: 118.0802\n",
      "Epoch 3/20\n",
      " - 22s - loss: 116.3319 - val_loss: 113.0054\n",
      "Epoch 4/20\n",
      " - 26s - loss: 112.4085 - val_loss: 109.4216\n",
      "Epoch 5/20\n",
      " - 24s - loss: 109.8577 - val_loss: 108.7830\n",
      "Epoch 6/20\n",
      " - 26s - loss: 108.1185 - val_loss: 107.0706\n",
      "Epoch 7/20\n",
      " - 25s - loss: 106.8669 - val_loss: 104.9209\n",
      "Epoch 8/20\n",
      " - 23s - loss: 105.9121 - val_loss: 105.3096\n",
      "Epoch 9/20\n",
      " - 25s - loss: 105.1340 - val_loss: 105.1092\n",
      "Epoch 10/20\n",
      " - 25s - loss: 104.5329 - val_loss: 104.4207\n",
      "Epoch 11/20\n",
      " - 23s - loss: 104.0393 - val_loss: 103.5489\n",
      "Epoch 12/20\n",
      " - 23s - loss: 103.5539 - val_loss: 103.5150\n",
      "Epoch 13/20\n",
      " - 25s - loss: 103.2206 - val_loss: 103.4480\n",
      "Epoch 14/20\n",
      " - 24s - loss: 102.8917 - val_loss: 104.0592\n",
      "Epoch 15/20\n",
      " - 23s - loss: 102.5585 - val_loss: 102.7154\n",
      "Epoch 16/20\n",
      " - 28s - loss: 102.2976 - val_loss: 102.9956\n",
      "Epoch 17/20\n",
      " - 29s - loss: 102.1556 - val_loss: 102.2581\n",
      "Epoch 18/20\n",
      " - 34s - loss: 101.9476 - val_loss: 102.2087\n",
      "Epoch 19/20\n",
      " - 23s - loss: 101.7616 - val_loss: 102.9820\n",
      "Epoch 20/20\n",
      " - 22s - loss: 101.5612 - val_loss: 102.4433\n"
     ]
    }
   ],
   "source": [
    "hist = vae.fit(x=x_train, y=x_train,\n",
    "               shuffle=True,\n",
    "               epochs=epochs,\n",
    "               batch_size=batch_size,\n",
    "               validation_data=(x_test, x_test),\n",
    "               verbose=2)"
   ]
  },
  {
   "cell_type": "markdown",
   "metadata": {},
   "source": [
    "### Visualize reconstructions for train and validation data\n",
    "In the picture below you can see the reconstruction ability of your network on training and validation data. In each of the two images, the left column is MNIST images and the right column is the corresponding image after passing through autoencoder (or more precisely the mean of the binomial distribution over the output images).\n",
    "\n",
    "Note that getting the best possible reconstruction is not the point of VAE, the KL term of the objective specifically hurts the reconstruction performance. But the reconstruction should be anyway reasonable and they provide a visual debugging tool."
   ]
  },
  {
   "cell_type": "code",
   "execution_count": 11,
   "metadata": {},
   "outputs": [
    {
     "data": {
      "image/png": "[encoded data removed]",
      "text/plain": [
       "<matplotlib.figure.Figure at 0x7f0f7d781c18>"
      ]
     },
     "metadata": {},
     "output_type": "display_data"
    }
   ],
   "source": [
    "fig = plt.figure(figsize=(10, 10))\n",
    "for fid_idx, (data, title) in enumerate(\n",
    "            zip([x_train, x_test], ['Train', 'Validation'])):\n",
    "    n = 10  # figure with 10 x 2 digits\n",
    "    digit_size = 28\n",
    "    figure = np.zeros((digit_size * n, digit_size * 2))\n",
    "    decoded = sess.run(x_decoded_mean, feed_dict={x: data[:batch_size, :]})\n",
    "    for i in range(10):\n",
    "        figure[i * digit_size: (i + 1) * digit_size,\n",
    "               :digit_size] = data[i, :].reshape(digit_size, digit_size)\n",
    "        figure[i * digit_size: (i + 1) * digit_size,\n",
    "               digit_size:] = decoded[i, :].reshape(digit_size, digit_size)\n",
    "    ax = fig.add_subplot(1, 2, fid_idx + 1)\n",
    "    ax.imshow(figure, cmap='Greys_r')\n",
    "    ax.set_title(title)\n",
    "    ax.axis('off')\n",
    "plt.show()"
   ]
  },
  {
   "cell_type": "markdown",
   "metadata": {
    "collapsed": true
   },
   "source": [
    "### Sending the results of your best model as Task 3 submission"
   ]
  },
  {
   "cell_type": "code",
   "execution_count": 12,
   "metadata": {},
   "outputs": [
    {
     "name": "stdout",
     "output_type": "stream",
     "text": [
      "Current answer for task 3 (best val loss) is: 102.4433432006836\n"
     ]
    }
   ],
   "source": [
    "grader.submit_best_val_loss(hist)"
   ]
  },
  {
   "cell_type": "markdown",
   "metadata": {},
   "source": [
    "## Hallucinating new data\n",
    "**Task 4** Write code to generate new samples of images from your trained VAE. To do that you have to sample from the prior distribution $p(t)$ and then from the likelihood $p(x \\mid t)$.\n",
    "\n",
    "**Note** that the sampling you've written in Task 2 was for the variational distribution $q(t \\mid x)$, while here you need to sample from the prior."
   ]
  },
  {
   "cell_type": "code",
   "execution_count": 13,
   "metadata": {},
   "outputs": [
    {
     "data": {
      "text/plain": [
       "(60000, 784)"
      ]
     },
     "execution_count": 13,
     "metadata": {},
     "output_type": "execute_result"
    }
   ],
   "source": [
    "x_train.shape"
   ]
  },
  {
   "cell_type": "code",
   "execution_count": 14,
   "metadata": {},
   "outputs": [
    {
     "name": "stdout",
     "output_type": "stream",
     "text": [
      "_________________________________________________________________\n",
      "Layer (type)                 Output Shape              Param #   \n",
      "=================================================================\n",
      "input_6 (InputLayer)         (None, 784)               0         \n",
      "_________________________________________________________________\n",
      "dense_1 (Dense)              (None, 512)               401920    \n",
      "_________________________________________________________________\n",
      "dense_2 (Dense)              (None, 256)               131328    \n",
      "_________________________________________________________________\n",
      "dense_3 (Dense)              (None, 32)                8224      \n",
      "=================================================================\n",
      "Total params: 541,472\n",
      "Trainable params: 541,472\n",
      "Non-trainable params: 0\n",
      "_________________________________________________________________\n"
     ]
    }
   ],
   "source": [
    "encoder.summary()"
   ]
  },
  {
   "cell_type": "code",
   "execution_count": 15,
   "metadata": {},
   "outputs": [
    {
     "name": "stdout",
     "output_type": "stream",
     "text": [
      "_________________________________________________________________\n",
      "Layer (type)                 Output Shape              Param #   \n",
      "=================================================================\n",
      "input_7 (InputLayer)         (None, 16)                0         \n",
      "_________________________________________________________________\n",
      "dense_4 (Dense)              (None, 256)               4352      \n",
      "_________________________________________________________________\n",
      "dense_5 (Dense)              (None, 512)               131584    \n",
      "_________________________________________________________________\n",
      "dense_6 (Dense)              (None, 784)               402192    \n",
      "=================================================================\n",
      "Total params: 538,128\n",
      "Trainable params: 538,128\n",
      "Non-trainable params: 0\n",
      "_________________________________________________________________\n"
     ]
    }
   ],
   "source": [
    "decoder.summary()"
   ]
  },
  {
   "cell_type": "code",
   "execution_count": 16,
   "metadata": {},
   "outputs": [],
   "source": [
    "n_samples = 10  # To pass automatic grading please use at least 2 samples here.\n",
    "# YOUR CODE HERE.\n",
    "# ...\n",
    "# sampled_im_mean is a tf.Tensor of size 10 x 784 with 10 random\n",
    "# images sampled from the vae model.\n",
    "sample_t_from_x = sess.run(t, feed_dict={x: data[:, :]})\n",
    "t_means = sample_t_from_x.mean(axis=0)\n",
    "t_std = sample_t_from_x.std(axis=0)\n",
    "sample_t = np.random.normal(t_means, t_std, (n_samples, latent_dim))\n",
    "sampled_im_mean = sess.run(x_decoded_mean, feed_dict={t: sample_t})"
   ]
  },
  {
   "cell_type": "code",
   "execution_count": 17,
   "metadata": {},
   "outputs": [
    {
     "data": {
      "image/png": "[encoded data removed]",
      "text/plain": [
       "<matplotlib.figure.Figure at 0x7f0fd06072b0>"
      ]
     },
     "metadata": {},
     "output_type": "display_data"
    }
   ],
   "source": [
    "sampled_im_mean_np = sampled_im_mean\n",
    "# Show the sampled images.\n",
    "plt.figure()\n",
    "for i in range(n_samples):\n",
    "    ax = plt.subplot(n_samples // 5 + 1, 5, i + 1)\n",
    "    plt.imshow(sampled_im_mean_np[i, :].reshape(28, 28), cmap='gray')\n",
    "    ax.axis('off')\n",
    "plt.show()"
   ]
  },
  {
   "cell_type": "code",
   "execution_count": 18,
   "metadata": {},
   "outputs": [
    {
     "name": "stdout",
     "output_type": "stream",
     "text": [
      "Current answer for task 4.1 (hallucinating mean) is: 0.13726449\n",
      "Current answer for task 4.2 (hallucinating var) is: 0.18224272\n"
     ]
    }
   ],
   "source": [
    "grader.submit_hallucinating(sess, sampled_im_mean)"
   ]
  },
  {
   "cell_type": "markdown",
   "metadata": {},
   "source": [
    "# Conditional VAE"
   ]
  },
  {
   "cell_type": "markdown",
   "metadata": {},
   "source": [
    "In the final task, you will modify your code to obtain Conditional Variational Autoencoder [1]. The idea is very simple: to be able to control the samples you generate, we condition all the distributions on some additional information. In our case, this additional information will be the class label (the digit on the image, from 0 to 9).\n",
    "\n",
    "![](CVAE.png)\n",
    "\n",
    "So now both the likelihood and the variational distributions are conditioned on the class label: $p(x \\mid t, \\text{label}, w)$, $q(t \\mid x, \\text{label}, \\phi)$.\n",
    "\n",
    "The only thing you have to change in your code is to concatenate input image $x$ with (one-hot) label of this image to pass into the encoder $q$ and to concatenate latent code $t$ with the same label to pass into the decoder $p$. Note that it's slightly harder to do with convolutional encoder / decoder model.\n",
    "\n",
    "[1] Sohn, Kihyuk, Honglak Lee, and Xinchen Yan. “Learning Structured Output Representation using Deep Conditional Generative Models.” Advances in Neural Information Processing Systems. 2015."
   ]
  },
  {
   "cell_type": "markdown",
   "metadata": {},
   "source": [
    "## Final task"
   ]
  },
  {
   "cell_type": "markdown",
   "metadata": {},
   "source": [
    "**Task 5.1** Implement CVAE model. You may reuse ```create_encoder``` and ```create_decoder``` modules defined previously (now you can see why they accept the input size as an argument ;) ). You may also need `concatenate` Keras layer to concat labels with input data and latent code.\n",
    "\n",
    "To finish this task, you should go to `Conditionally hallucinate data` section and find there Task 5.2"
   ]
  },
  {
   "cell_type": "code",
   "execution_count": 19,
   "metadata": {
    "scrolled": false
   },
   "outputs": [],
   "source": [
    "# One-hot labels placeholder.\n",
    "x = Input(batch_shape=(None, original_dim))\n",
    "label = Input(batch_shape=(None, 10))\n",
    "encoder = create_encoder(original_dim+10)\n",
    "\n",
    "get_cond_t_mean = Lambda(lambda h: h[:, :latent_dim])\n",
    "get_cond_t_log_var = Lambda(lambda h: h[:, latent_dim:])\n",
    "h = encoder(concatenate([x, label]))\n",
    "\n",
    "# YOUR CODE HERE.\n",
    "cond_t_mean =  get_cond_t_mean(h)# Mean of the latent code (without label) for cvae model.\n",
    "cond_t_log_var = get_cond_t_log_var(h)# Logarithm of the variance of the latent code (without label) for cvae model.\n",
    "t = Lambda(sampling)([cond_t_mean, cond_t_log_var])\n",
    "decoder = create_decoder(latent_dim+10)\n",
    "cond_x_decoded_mean = decoder(concatenate([t, label])) # Final output of the cvae model."
   ]
  },
  {
   "cell_type": "markdown",
   "metadata": {},
   "source": [
    "## Define the loss and the model"
   ]
  },
  {
   "cell_type": "code",
   "execution_count": 20,
   "metadata": {},
   "outputs": [],
   "source": [
    "conditional_loss = vlb_binomial(x, cond_x_decoded_mean, cond_t_mean, cond_t_log_var)\n",
    "cvae = Model([x, label], cond_x_decoded_mean)\n",
    "cvae.compile(optimizer=keras.optimizers.RMSprop(lr=0.001), loss=lambda x, y: conditional_loss)"
   ]
  },
  {
   "cell_type": "markdown",
   "metadata": {},
   "source": [
    "### Train the model"
   ]
  },
  {
   "cell_type": "code",
   "execution_count": 21,
   "metadata": {},
   "outputs": [
    {
     "name": "stdout",
     "output_type": "stream",
     "text": [
      "Train on 60000 samples, validate on 10000 samples\n",
      "Epoch 1/20\n",
      " - 23s - loss: 152.8271 - val_loss: 126.2824\n",
      "Epoch 2/20\n",
      " - 30s - loss: 121.5826 - val_loss: 114.8538\n",
      "Epoch 3/20\n",
      " - 26s - loss: 113.6046 - val_loss: 110.3361\n",
      "Epoch 4/20\n",
      " - 28s - loss: 109.3882 - val_loss: 108.0276\n",
      "Epoch 5/20\n",
      " - 29s - loss: 106.8259 - val_loss: 104.8260\n",
      "Epoch 6/20\n",
      " - 30s - loss: 105.0927 - val_loss: 103.6301\n",
      "Epoch 7/20\n",
      " - 28s - loss: 103.7593 - val_loss: 104.8660\n",
      "Epoch 8/20\n",
      " - 26s - loss: 102.7065 - val_loss: 102.3374\n",
      "Epoch 9/20\n",
      " - 27s - loss: 101.8916 - val_loss: 101.5376\n",
      "Epoch 10/20\n",
      " - 33s - loss: 101.1544 - val_loss: 100.4284\n",
      "Epoch 11/20\n",
      " - 36s - loss: 100.5640 - val_loss: 101.2175\n",
      "Epoch 12/20\n",
      " - 31s - loss: 100.0654 - val_loss: 100.8919\n",
      "Epoch 13/20\n",
      " - 28s - loss: 99.6424 - val_loss: 99.9402\n",
      "Epoch 14/20\n",
      " - 30s - loss: 99.2046 - val_loss: 101.1880\n",
      "Epoch 15/20\n",
      " - 26s - loss: 98.8636 - val_loss: 99.5162\n",
      "Epoch 16/20\n",
      " - 25s - loss: 98.5694 - val_loss: 99.0821\n",
      "Epoch 17/20\n",
      " - 27s - loss: 98.2662 - val_loss: 98.4927\n",
      "Epoch 18/20\n",
      " - 31s - loss: 98.0286 - val_loss: 98.9733\n",
      "Epoch 19/20\n",
      " - 27s - loss: 97.7794 - val_loss: 98.7317\n",
      "Epoch 20/20\n",
      " - 25s - loss: 97.5994 - val_loss: 98.7813\n"
     ]
    }
   ],
   "source": [
    "hist = cvae.fit(x=[x_train, y_train],\n",
    "                y=x_train,\n",
    "                shuffle=True,\n",
    "                epochs=epochs,\n",
    "                batch_size=batch_size,\n",
    "                validation_data=([x_test, y_test], x_test),\n",
    "                verbose=2)"
   ]
  },
  {
   "cell_type": "markdown",
   "metadata": {},
   "source": [
    "### Visualize reconstructions for train and validation data"
   ]
  },
  {
   "cell_type": "code",
   "execution_count": 22,
   "metadata": {},
   "outputs": [
    {
     "data": {
      "image/png": "[encoded data removed]",
      "text/plain": [
       "<matplotlib.figure.Figure at 0x7f0f6c409320>"
      ]
     },
     "metadata": {},
     "output_type": "display_data"
    }
   ],
   "source": [
    "fig = plt.figure(figsize=(10, 10))\n",
    "for fid_idx, (x_data, y_data, title) in enumerate(\n",
    "            zip([x_train, x_test], [y_train, y_test], ['Train', 'Validation'])):\n",
    "    n = 10  # figure with 10 x 2 digits\n",
    "    digit_size = 28\n",
    "    figure = np.zeros((digit_size * n, digit_size * 2))\n",
    "    decoded = sess.run(cond_x_decoded_mean,\n",
    "                       feed_dict={x: x_data[:batch_size, :],\n",
    "                                  label: y_data[:batch_size, :]})\n",
    "    for i in range(10):\n",
    "        figure[i * digit_size: (i + 1) * digit_size,\n",
    "               :digit_size] = x_data[i, :].reshape(digit_size, digit_size)\n",
    "        figure[i * digit_size: (i + 1) * digit_size,\n",
    "               digit_size:] = decoded[i, :].reshape(digit_size, digit_size)\n",
    "    ax = fig.add_subplot(1, 2, fid_idx + 1)\n",
    "    ax.imshow(figure, cmap='Greys_r')\n",
    "    ax.set_title(title)\n",
    "    ax.axis('off')\n",
    "plt.show()"
   ]
  },
  {
   "cell_type": "markdown",
   "metadata": {},
   "source": [
    "## Conditionally hallucinate data\n",
    "**Task 5.2** Implement the conditional sampling from the distribution $p(x \\mid t, \\text{label})$ by firstly sampling from the prior $p(t)$ and then sampling from the likelihood $p(x \\mid t, \\text{label})$."
   ]
  },
  {
   "cell_type": "code",
   "execution_count": 23,
   "metadata": {},
   "outputs": [],
   "source": [
    "# Prepare one hot labels of form\n",
    "#   0 0 0 0 0 1 1 1 1 1 2 2 2 2 2 ...\n",
    "# to sample five zeros, five ones, etc\n",
    "curr_labels = np.eye(10)\n",
    "curr_labels = np.repeat(curr_labels, 5, axis=0)  # Its shape is 50 x 10.\n",
    "# YOUR CODE HERE.\n",
    "sample_t_from_x = sess.run(t, feed_dict={x: data[:, :], label: y_data[:, :]})\n",
    "t_means = sample_t_from_x.mean(axis=0)\n",
    "t_std = sample_t_from_x.std(axis=0)\n",
    "sample_t = np.random.normal(t_means, t_std, (50, latent_dim))\n",
    "# ...\n",
    "# cond_sampled_im_mean is a tf.Tensor of size 50 x 784 with 5 random zeros,\n",
    "# then 5 random ones, etc sampled from the cvae model.\n",
    "cond_sampled_im_mean = sess.run(cond_x_decoded_mean, feed_dict={t: sample_t, label:curr_labels})"
   ]
  },
  {
   "cell_type": "code",
   "execution_count": 24,
   "metadata": {},
   "outputs": [
    {
     "data": {
      "image/png": "[encoded data removed]",
      "text/plain": [
       "<matplotlib.figure.Figure at 0x7f0f6c319f60>"
      ]
     },
     "metadata": {},
     "output_type": "display_data"
    }
   ],
   "source": [
    "cond_sampled_im_mean_np = cond_sampled_im_mean\n",
    "# Show the sampled images.\n",
    "plt.figure(figsize=(10, 10))\n",
    "global_idx = 0\n",
    "for digit in range(10):\n",
    "    for _ in range(5):\n",
    "        ax = plt.subplot(10, 5, global_idx + 1)\n",
    "        plt.imshow(cond_sampled_im_mean_np[global_idx, :].reshape(28, 28), cmap='gray')\n",
    "        ax.axis('off')\n",
    "        global_idx += 1\n",
    "plt.show()"
   ]
  },
  {
   "cell_type": "code",
   "execution_count": 25,
   "metadata": {},
   "outputs": [
    {
     "name": "stdout",
     "output_type": "stream",
     "text": [
      "Current answer for task 5.1 (conditional hallucinating mean) is: 0.09800042004109634\n",
      "Current answer for task 5.2 (conditional hallucinating var) is: 0.04727559179927812\n"
     ]
    }
   ],
   "source": [
    "# Submit Task 5 (both 5.1 and 5.2).\n",
    "grader.submit_conditional_hallucinating(sess, cond_sampled_im_mean)"
   ]
  },
  {
   "cell_type": "markdown",
   "metadata": {},
   "source": [
    "# Authorization & Submission\n",
    "To submit assignment parts to Cousera platform, please, enter your e-mail and token into variables below. You can generate the token on this programming assignment page. <b>Note:</b> Token expires 30 minutes after generation."
   ]
  },
  {
   "cell_type": "code",
   "execution_count": 26,
   "metadata": {},
   "outputs": [
    {
     "name": "stdout",
     "output_type": "stream",
     "text": [
      "You want to submit these numbers:\n",
      "Task 1 (vlb): 157.59695\n",
      "Task 2.1 (samples mean): -0.12195136\n",
      "Task 2.2 (samples var): 0.037195943\n",
      "Task 3 (best val loss): 102.4433432006836\n",
      "Task 4.1 (hallucinating mean): 0.13726449\n",
      "Task 4.2 (hallucinating var): 0.18224272\n",
      "Task 5.1 (conditional hallucinating mean): 0.09800042004109634\n",
      "Task 5.2 (conditional hallucinating var): 0.04727559179927812\n"
     ]
    }
   ],
   "source": [
    "STUDENT_EMAIL =  \"siddhant.srivastava11@gmail.com\"# EMAIL HERE\n",
    "STUDENT_TOKEN =  \"QHyiFCCGQWtceftj\"# TOKEN HERE\n",
    "grader.status()"
   ]
  },
  {
   "cell_type": "code",
   "execution_count": 27,
   "metadata": {},
   "outputs": [
    {
     "name": "stdout",
     "output_type": "stream",
     "text": [
      "Submitted to Coursera platform. See results on assignment page!\n"
     ]
    }
   ],
   "source": [
    "grader.submit(STUDENT_EMAIL, STUDENT_TOKEN)"
   ]
  },
  {
   "cell_type": "markdown",
   "metadata": {},
   "source": [
    "# Playtime (UNGRADED)\n",
    "Once you passed all the tests, modify the code below to work with the mixture of Gaussian distributions (in contrast to the mixture of Binomial distributions), and redo the experiments with CIFAR-10 dataset, which are much full color natural images."
   ]
  },
  {
   "cell_type": "code",
   "execution_count": 29,
   "metadata": {},
   "outputs": [
    {
     "name": "stdout",
     "output_type": "stream",
     "text": [
      "Downloading data from https://www.cs.toronto.edu/~kriz/cifar-10-python.tar.gz\n",
      "170500096/170498071 [==============================] - 224s 1us/step\n"
     ]
    }
   ],
   "source": [
    "from keras.datasets import cifar10\n",
    "(x_train, y_train), (x_test, y_test) = cifar10.load_data()"
   ]
  },
  {
   "cell_type": "code",
   "execution_count": 30,
   "metadata": {},
   "outputs": [
    {
     "data": {
      "image/png": "[encoded data removed]",
      "text/plain": [
       "<matplotlib.figure.Figure at 0x128c028d0>"
      ]
     },
     "metadata": {},
     "output_type": "display_data"
    }
   ],
   "source": [
    "plt.imshow(x_train[7, :])\n",
    "plt.show()"
   ]
  },
  {
   "cell_type": "code",
   "execution_count": null,
   "metadata": {},
   "outputs": [],
   "source": []
  }
 ],
 "metadata": {
  "kernelspec": {
   "display_name": "Python 3",
   "language": "python",
   "name": "python3"
  },
  "language_info": {
   "codemirror_mode": {
    "name": "ipython",
    "version": 3
   },
   "file_extension": ".py",
   "mimetype": "text/x-python",
   "name": "python",
   "nbconvert_exporter": "python",
   "pygments_lexer": "ipython3",
   "version": "3.6.4"
  }
 },
 "nbformat": 4,
 "nbformat_minor": 2
}
